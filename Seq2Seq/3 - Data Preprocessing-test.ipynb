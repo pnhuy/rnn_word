{
 "cells": [
  {
   "cell_type": "code",
   "execution_count": 1,
   "metadata": {},
   "outputs": [],
   "source": [
    "import pandas as pd\n",
    "import csv\n",
    "from utils import *"
   ]
  },
  {
   "cell_type": "code",
   "execution_count": 2,
   "metadata": {},
   "outputs": [
    {
     "name": "stdout",
     "output_type": "stream",
     "text": [
      "['SOS', 'EOS', 'UNK', '-', '-1', '-150', '-17', '-18', '-200', '-2016']\n"
     ]
    }
   ],
   "source": [
    "vocab = list(np.load('vocab.npy'))\n",
    "print(vocab[:10])"
   ]
  },
  {
   "cell_type": "code",
   "execution_count": 3,
   "metadata": {},
   "outputs": [],
   "source": [
    "df = pd.read_csv('test.csv', index_col=0)"
   ]
  },
  {
   "cell_type": "code",
   "execution_count": 4,
   "metadata": {
    "scrolled": false
   },
   "outputs": [
    {
     "name": "stdout",
     "output_type": "stream",
     "text": [
      "(9649, 2)\n"
     ]
    },
    {
     "data": {
      "text/html": [
       "<div>\n",
       "<style scoped>\n",
       "    .dataframe tbody tr th:only-of-type {\n",
       "        vertical-align: middle;\n",
       "    }\n",
       "\n",
       "    .dataframe tbody tr th {\n",
       "        vertical-align: top;\n",
       "    }\n",
       "\n",
       "    .dataframe thead th {\n",
       "        text-align: right;\n",
       "    }\n",
       "</style>\n",
       "<table border=\"1\" class=\"dataframe\">\n",
       "  <thead>\n",
       "    <tr style=\"text-align: right;\">\n",
       "      <th></th>\n",
       "      <th>desc</th>\n",
       "      <th>wordId</th>\n",
       "    </tr>\n",
       "  </thead>\n",
       "  <tbody>\n",
       "    <tr>\n",
       "      <th>8057</th>\n",
       "      <td>Chỉ phẩu thuật: CHROMIC CATGUT 2/0 USP SIZE. (...</td>\n",
       "      <td>CatGut</td>\n",
       "    </tr>\n",
       "    <tr>\n",
       "      <th>866</th>\n",
       "      <td>Chỉ khâu phẫu thuật - NOVOSYN VIOLET 0 (3,5) 9...</td>\n",
       "      <td>NOVOSYN</td>\n",
       "    </tr>\n",
       "    <tr>\n",
       "      <th>1524</th>\n",
       "      <td>Chỉ Khâu Phẫu Thuật (C0935123). Chủng loại: DA...</td>\n",
       "      <td>DAFILON</td>\n",
       "    </tr>\n",
       "    <tr>\n",
       "      <th>8248</th>\n",
       "      <td>Chỉ y tế Progut đường kính 20mm, loại 3-0, dài...</td>\n",
       "      <td>GUT</td>\n",
       "    </tr>\n",
       "    <tr>\n",
       "      <th>8623</th>\n",
       "      <td>ETHILON BLK 13CM M0.2 10/0 BV130-4 _Chỉ phẫu t...</td>\n",
       "      <td>ETHILON</td>\n",
       "    </tr>\n",
       "  </tbody>\n",
       "</table>\n",
       "</div>"
      ],
      "text/plain": [
       "                                                   desc   wordId\n",
       "8057  Chỉ phẩu thuật: CHROMIC CATGUT 2/0 USP SIZE. (...   CatGut\n",
       "866   Chỉ khâu phẫu thuật - NOVOSYN VIOLET 0 (3,5) 9...  NOVOSYN\n",
       "1524  Chỉ Khâu Phẫu Thuật (C0935123). Chủng loại: DA...  DAFILON\n",
       "8248  Chỉ y tế Progut đường kính 20mm, loại 3-0, dài...      GUT\n",
       "8623  ETHILON BLK 13CM M0.2 10/0 BV130-4 _Chỉ phẫu t...  ETHILON"
      ]
     },
     "execution_count": 4,
     "metadata": {},
     "output_type": "execute_result"
    }
   ],
   "source": [
    "print(df.shape)\n",
    "df.head()"
   ]
  },
  {
   "cell_type": "code",
   "execution_count": 5,
   "metadata": {},
   "outputs": [],
   "source": [
    "df.desc = [textPrepWithToken(i) for i in df.desc]"
   ]
  },
  {
   "cell_type": "code",
   "execution_count": 6,
   "metadata": {},
   "outputs": [],
   "source": [
    "df.wordId = [textPrepWithToken(i) for i in df.wordId]"
   ]
  },
  {
   "cell_type": "code",
   "execution_count": 7,
   "metadata": {},
   "outputs": [
    {
     "data": {
      "text/html": [
       "<div>\n",
       "<style scoped>\n",
       "    .dataframe tbody tr th:only-of-type {\n",
       "        vertical-align: middle;\n",
       "    }\n",
       "\n",
       "    .dataframe tbody tr th {\n",
       "        vertical-align: top;\n",
       "    }\n",
       "\n",
       "    .dataframe thead th {\n",
       "        text-align: right;\n",
       "    }\n",
       "</style>\n",
       "<table border=\"1\" class=\"dataframe\">\n",
       "  <thead>\n",
       "    <tr style=\"text-align: right;\">\n",
       "      <th></th>\n",
       "      <th>desc</th>\n",
       "      <th>wordId</th>\n",
       "    </tr>\n",
       "  </thead>\n",
       "  <tbody>\n",
       "    <tr>\n",
       "      <th>8057</th>\n",
       "      <td>SOS chỉ phẩu thuật chromic catgut 2 0 usp size...</td>\n",
       "      <td>SOS catgut EOS</td>\n",
       "    </tr>\n",
       "    <tr>\n",
       "      <th>866</th>\n",
       "      <td>SOS chỉ khâu phẫu thuật - novosyn violet 0 3 5...</td>\n",
       "      <td>SOS novosyn EOS</td>\n",
       "    </tr>\n",
       "    <tr>\n",
       "      <th>1524</th>\n",
       "      <td>SOS chỉ khâu phẫu thuật c0935123 chủng loại da...</td>\n",
       "      <td>SOS dafilon EOS</td>\n",
       "    </tr>\n",
       "    <tr>\n",
       "      <th>8248</th>\n",
       "      <td>SOS chỉ y tế progut đường kính 20mm loại 3-0 d...</td>\n",
       "      <td>SOS gut EOS</td>\n",
       "    </tr>\n",
       "    <tr>\n",
       "      <th>8623</th>\n",
       "      <td>SOS ethilon blk 13cm m0 2 10 0 bv130-4 chỉ phẫ...</td>\n",
       "      <td>SOS ethilon EOS</td>\n",
       "    </tr>\n",
       "    <tr>\n",
       "      <th>2679</th>\n",
       "      <td>SOS chỉ khâu phẫu thuật liền kim jbp v lift 29...</td>\n",
       "      <td>SOS EOS</td>\n",
       "    </tr>\n",
       "    <tr>\n",
       "      <th>7084</th>\n",
       "      <td>SOS chỉ phẫu thuật vô trùng mới 100 nhãn hiệu ...</td>\n",
       "      <td>SOS catgut EOS</td>\n",
       "    </tr>\n",
       "    <tr>\n",
       "      <th>4018</th>\n",
       "      <td>SOS chỉ khâu phẫu thuật vô trùng sợi đơn polya...</td>\n",
       "      <td>SOS trulon EOS</td>\n",
       "    </tr>\n",
       "    <tr>\n",
       "      <th>11853</th>\n",
       "      <td>SOS chỉ phẫu thuật loại surgicryl pga ep 3 5 u...</td>\n",
       "      <td>SOS surgicryl pga EOS</td>\n",
       "    </tr>\n",
       "    <tr>\n",
       "      <th>11615</th>\n",
       "      <td>SOS sp-1646 miếng vá sọ titan bộ 2 0mm cỡ 150x...</td>\n",
       "      <td>SOS mesh EOS</td>\n",
       "    </tr>\n",
       "  </tbody>\n",
       "</table>\n",
       "</div>"
      ],
      "text/plain": [
       "                                                    desc  \\\n",
       "8057   SOS chỉ phẩu thuật chromic catgut 2 0 usp size...   \n",
       "866    SOS chỉ khâu phẫu thuật - novosyn violet 0 3 5...   \n",
       "1524   SOS chỉ khâu phẫu thuật c0935123 chủng loại da...   \n",
       "8248   SOS chỉ y tế progut đường kính 20mm loại 3-0 d...   \n",
       "8623   SOS ethilon blk 13cm m0 2 10 0 bv130-4 chỉ phẫ...   \n",
       "2679   SOS chỉ khâu phẫu thuật liền kim jbp v lift 29...   \n",
       "7084   SOS chỉ phẫu thuật vô trùng mới 100 nhãn hiệu ...   \n",
       "4018   SOS chỉ khâu phẫu thuật vô trùng sợi đơn polya...   \n",
       "11853  SOS chỉ phẫu thuật loại surgicryl pga ep 3 5 u...   \n",
       "11615  SOS sp-1646 miếng vá sọ titan bộ 2 0mm cỡ 150x...   \n",
       "\n",
       "                      wordId  \n",
       "8057          SOS catgut EOS  \n",
       "866          SOS novosyn EOS  \n",
       "1524         SOS dafilon EOS  \n",
       "8248             SOS gut EOS  \n",
       "8623         SOS ethilon EOS  \n",
       "2679                 SOS EOS  \n",
       "7084          SOS catgut EOS  \n",
       "4018          SOS trulon EOS  \n",
       "11853  SOS surgicryl pga EOS  \n",
       "11615           SOS mesh EOS  "
      ]
     },
     "execution_count": 7,
     "metadata": {},
     "output_type": "execute_result"
    }
   ],
   "source": [
    "df.head(10)"
   ]
  },
  {
   "cell_type": "code",
   "execution_count": 8,
   "metadata": {},
   "outputs": [],
   "source": [
    "descVec = [text2code(i, vocab) for i in df.desc]"
   ]
  },
  {
   "cell_type": "code",
   "execution_count": 9,
   "metadata": {},
   "outputs": [],
   "source": [
    "descVec_rev = [code2text(i, vocab) for i in descVec]"
   ]
  },
  {
   "cell_type": "code",
   "execution_count": 10,
   "metadata": {},
   "outputs": [
    {
     "data": {
      "text/plain": [
       "0"
      ]
     },
     "execution_count": 10,
     "metadata": {},
     "output_type": "execute_result"
    }
   ],
   "source": [
    "(descVec_rev != df.desc).sum()"
   ]
  },
  {
   "cell_type": "code",
   "execution_count": 11,
   "metadata": {},
   "outputs": [],
   "source": [
    "wordIdVec = [text2code(i, vocab) for i in df.wordId]"
   ]
  },
  {
   "cell_type": "code",
   "execution_count": 12,
   "metadata": {},
   "outputs": [],
   "source": [
    "wordIdVec_rev = [code2text(i, vocab) for i in wordIdVec]"
   ]
  },
  {
   "cell_type": "code",
   "execution_count": 13,
   "metadata": {},
   "outputs": [
    {
     "data": {
      "text/plain": [
       "0"
      ]
     },
     "execution_count": 13,
     "metadata": {},
     "output_type": "execute_result"
    }
   ],
   "source": [
    "(wordIdVec_rev != df.wordId).sum()\n",
    "            "
   ]
  },
  {
   "cell_type": "code",
   "execution_count": 14,
   "metadata": {},
   "outputs": [
    {
     "data": {
      "text/html": [
       "<div>\n",
       "<style scoped>\n",
       "    .dataframe tbody tr th:only-of-type {\n",
       "        vertical-align: middle;\n",
       "    }\n",
       "\n",
       "    .dataframe tbody tr th {\n",
       "        vertical-align: top;\n",
       "    }\n",
       "\n",
       "    .dataframe thead th {\n",
       "        text-align: right;\n",
       "    }\n",
       "</style>\n",
       "<table border=\"1\" class=\"dataframe\">\n",
       "  <thead>\n",
       "    <tr style=\"text-align: right;\">\n",
       "      <th></th>\n",
       "      <th>descVec</th>\n",
       "      <th>wordIdVec</th>\n",
       "    </tr>\n",
       "  </thead>\n",
       "  <tbody>\n",
       "    <tr>\n",
       "      <th>0</th>\n",
       "      <td>[0, 2430, 3956, 4690, 2419, 2340, 775, 43, 488...</td>\n",
       "      <td>[0, 2340, 1]</td>\n",
       "    </tr>\n",
       "    <tr>\n",
       "      <th>1</th>\n",
       "      <td>[0, 2430, 3212, 3957, 4690, 3, 3733, 4948, 43,...</td>\n",
       "      <td>[0, 3733, 1]</td>\n",
       "    </tr>\n",
       "    <tr>\n",
       "      <th>2</th>\n",
       "      <td>[0, 2430, 3212, 3957, 4690, 2198, 2436, 3327, ...</td>\n",
       "      <td>[0, 2594, 1]</td>\n",
       "    </tr>\n",
       "    <tr>\n",
       "      <th>3</th>\n",
       "      <td>[0, 2430, 5291, 4812, 4096, 5338, 3256, 875, 3...</td>\n",
       "      <td>[0, 3036, 1]</td>\n",
       "    </tr>\n",
       "    <tr>\n",
       "      <th>4</th>\n",
       "      <td>[0, 2802, 2034, 383, 3415, 775, 186, 43, 2064,...</td>\n",
       "      <td>[0, 2802, 1]</td>\n",
       "    </tr>\n",
       "  </tbody>\n",
       "</table>\n",
       "</div>"
      ],
      "text/plain": [
       "                                             descVec     wordIdVec\n",
       "0  [0, 2430, 3956, 4690, 2419, 2340, 775, 43, 488...  [0, 2340, 1]\n",
       "1  [0, 2430, 3212, 3957, 4690, 3, 3733, 4948, 43,...  [0, 3733, 1]\n",
       "2  [0, 2430, 3212, 3957, 4690, 2198, 2436, 3327, ...  [0, 2594, 1]\n",
       "3  [0, 2430, 5291, 4812, 4096, 5338, 3256, 875, 3...  [0, 3036, 1]\n",
       "4  [0, 2802, 2034, 383, 3415, 775, 186, 43, 2064,...  [0, 2802, 1]"
      ]
     },
     "execution_count": 14,
     "metadata": {},
     "output_type": "execute_result"
    }
   ],
   "source": [
    "df_ = pd.DataFrame({'descVec':descVec, 'wordIdVec': wordIdVec})\n",
    "df_.head()"
   ]
  },
  {
   "cell_type": "code",
   "execution_count": 15,
   "metadata": {},
   "outputs": [],
   "source": [
    "import pickle\n",
    "\n",
    "pickle.dump(df_, open('test_encode.p', 'wb'))"
   ]
  }
 ],
 "metadata": {
  "kernelspec": {
   "display_name": "Python 3",
   "language": "python",
   "name": "python3"
  },
  "language_info": {
   "codemirror_mode": {
    "name": "ipython",
    "version": 3
   },
   "file_extension": ".py",
   "mimetype": "text/x-python",
   "name": "python",
   "nbconvert_exporter": "python",
   "pygments_lexer": "ipython3",
   "version": "3.6.5"
  }
 },
 "nbformat": 4,
 "nbformat_minor": 2
}
