{
 "cells": [
  {
   "cell_type": "code",
   "execution_count": 1,
   "metadata": {},
   "outputs": [],
   "source": [
    "import numpy as np\n",
    "import pandas as pd\n",
    "from utils import *\n",
    "import csv"
   ]
  },
  {
   "cell_type": "code",
   "execution_count": 3,
   "metadata": {},
   "outputs": [],
   "source": [
    "df = pd.read_csv('../DataSuture.csv')"
   ]
  },
  {
   "cell_type": "code",
   "execution_count": 4,
   "metadata": {},
   "outputs": [],
   "source": [
    "vocab = set()\n",
    "\n",
    "for sentence in df.desc:\n",
    "    sentence = textPrep(sentence)\n",
    "    vocab.update(textSeperate(sentence))\n",
    "\n",
    "for sentence in df.wordId:\n",
    "    if not (pd.isnull(sentence)):\n",
    "        sentence = textPrep(sentence)\n",
    "        vocab.update(textSeperate(sentence))\n",
    "    \n",
    "vocab = sorted(vocab)"
   ]
  },
  {
   "cell_type": "code",
   "execution_count": 5,
   "metadata": {},
   "outputs": [],
   "source": [
    "with open('vocab.csv', 'w') as f:\n",
    "    writer = csv.writer(f)\n",
    "    writer.writerow([\"vocab\"])\n",
    "    for item in vocab:\n",
    "        writer.writerow([item,])"
   ]
  },
  {
   "cell_type": "code",
   "execution_count": 6,
   "metadata": {},
   "outputs": [],
   "source": [
    "vocab.insert(0, 'UNK')\n",
    "vocab.insert(0, 'EOS')\n",
    "vocab.insert(0, 'SOS')"
   ]
  },
  {
   "cell_type": "code",
   "execution_count": 7,
   "metadata": {},
   "outputs": [],
   "source": [
    "vocabWordToIndex = {k:v for k, v in zip(vocab, range(len(vocab)))}\n",
    "#vocabIndexToWord = {k:v for k, v in zip(range(len(vocab)), vocab)}"
   ]
  },
  {
   "cell_type": "code",
   "execution_count": 8,
   "metadata": {},
   "outputs": [
    {
     "name": "stdout",
     "output_type": "stream",
     "text": [
      "2798\n",
      "ethibond\n"
     ]
    }
   ],
   "source": [
    "# Save\n",
    "np.save('vocabWordToIndex.npy', vocabWordToIndex)\n",
    "np.save('vocab.npy', vocab)\n",
    "\n",
    "# Load\n",
    "testDict = np.load('vocabWordToIndex.npy').item()\n",
    "print(testDict['ethibond'])\n",
    "testDict = np.load('vocab.npy')\n",
    "print(testDict[2798])"
   ]
  },
  {
   "cell_type": "code",
   "execution_count": null,
   "metadata": {},
   "outputs": [],
   "source": []
  }
 ],
 "metadata": {
  "kernelspec": {
   "display_name": "Python 3",
   "language": "python",
   "name": "python3"
  },
  "language_info": {
   "codemirror_mode": {
    "name": "ipython",
    "version": 3
   },
   "file_extension": ".py",
   "mimetype": "text/x-python",
   "name": "python",
   "nbconvert_exporter": "python",
   "pygments_lexer": "ipython3",
   "version": "3.6.5"
  }
 },
 "nbformat": 4,
 "nbformat_minor": 2
}
